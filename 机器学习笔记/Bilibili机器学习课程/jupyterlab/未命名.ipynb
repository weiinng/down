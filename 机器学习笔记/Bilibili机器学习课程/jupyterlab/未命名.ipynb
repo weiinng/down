{
 "cells": [
  {
   "cell_type": "code",
   "execution_count": 8,
   "metadata": {},
   "outputs": [],
   "source": [
    "import pandas as pd\n",
    "import xlwt\n",
    "import csv"
   ]
  },
  {
   "cell_type": "code",
   "execution_count": 3,
   "metadata": {},
   "outputs": [
    {
     "name": "stdout",
     "output_type": "stream",
     "text": [
      "[{'id': 1, 'name': '张卫宁', 'age': 18}]\n",
      "[{'id': 1, 'name': '张卫宁', 'age': 18}, {'id': 1, 'name': '张卫宁', 'age': 18}]\n",
      "[{'id': 1, 'name': '张卫宁', 'age': 18}, {'id': 1, 'name': '张卫宁', 'age': 18}, {'id': 1, 'name': '张卫宁', 'age': 18}]\n",
      "[{'id': 1, 'name': '张卫宁', 'age': 18}, {'id': 1, 'name': '张卫宁', 'age': 18}, {'id': 1, 'name': '张卫宁', 'age': 18}, {'id': 1, 'name': '张卫宁', 'age': 18}]\n",
      "[{'id': 1, 'name': '张卫宁', 'age': 18}, {'id': 1, 'name': '张卫宁', 'age': 18}, {'id': 1, 'name': '张卫宁', 'age': 18}, {'id': 1, 'name': '张卫宁', 'age': 18}, {'id': 1, 'name': '张卫宁', 'age': 18}]\n"
     ]
    }
   ],
   "source": [
    "aList = []\n",
    "item = {\n",
    "    \"id\":1,\n",
    "    \"name\":\"张卫宁\",\n",
    "    \"age\":18,\n",
    "}\n"
   ]
  },
  {
   "cell_type": "code",
   "execution_count": 10,
   "metadata": {},
   "outputs": [
    {
     "ename": "NameError",
     "evalue": "name 'row' is not defined",
     "output_type": "error",
     "traceback": [
      "\u001b[1;31m---------------------------------------------------------------------------\u001b[0m",
      "\u001b[1;31mNameError\u001b[0m                                 Traceback (most recent call last)",
      "\u001b[1;32m<ipython-input-10-9a91ae8410cd>\u001b[0m in \u001b[0;36m<module>\u001b[1;34m\u001b[0m\n\u001b[0;32m      3\u001b[0m \u001b[1;33m\u001b[0m\u001b[0m\n\u001b[0;32m      4\u001b[0m \u001b[0mcsv_write\u001b[0m\u001b[1;33m.\u001b[0m\u001b[0mwriterow\u001b[0m\u001b[1;33m(\u001b[0m\u001b[0mitem\u001b[0m\u001b[1;33m.\u001b[0m\u001b[0mkeys\u001b[0m\u001b[1;33m(\u001b[0m\u001b[1;33m)\u001b[0m\u001b[1;33m)\u001b[0m\u001b[1;33m\u001b[0m\u001b[0m\n\u001b[1;32m----> 5\u001b[1;33m \u001b[0mcsv_write\u001b[0m\u001b[1;33m.\u001b[0m\u001b[0mwriterow\u001b[0m\u001b[1;33m(\u001b[0m\u001b[0mrow\u001b[0m\u001b[1;33m.\u001b[0m\u001b[0mvalues\u001b[0m\u001b[1;33m(\u001b[0m\u001b[1;33m)\u001b[0m\u001b[1;33m)\u001b[0m\u001b[1;33m\u001b[0m\u001b[0m\n\u001b[0m\u001b[0;32m      6\u001b[0m \u001b[1;33m\u001b[0m\u001b[0m\n\u001b[0;32m      7\u001b[0m \u001b[0mf\u001b[0m\u001b[1;33m.\u001b[0m\u001b[0mclose\u001b[0m\u001b[1;33m(\u001b[0m\u001b[1;33m)\u001b[0m\u001b[1;33m\u001b[0m\u001b[0m\n",
      "\u001b[1;31mNameError\u001b[0m: name 'row' is not defined"
     ]
    }
   ],
   "source": [
    "f = open(\"data.csv\",\"w\")\n",
    "csv_write = csv.writer(f)\n",
    "\n",
    "csv_write.writerow(item.keys())\n",
    "csv_write.writerow(row.values())\n",
    "\n",
    "f.close()"
   ]
  },
  {
   "cell_type": "code",
   "execution_count": null,
   "metadata": {},
   "outputs": [],
   "source": []
  }
 ],
 "metadata": {
  "kernelspec": {
   "display_name": "Python 3",
   "language": "python",
   "name": "python3"
  },
  "language_info": {
   "codemirror_mode": {
    "name": "ipython",
    "version": 3
   },
   "file_extension": ".py",
   "mimetype": "text/x-python",
   "name": "python",
   "nbconvert_exporter": "python",
   "pygments_lexer": "ipython3",
   "version": "3.7.0"
  }
 },
 "nbformat": 4,
 "nbformat_minor": 2
}
